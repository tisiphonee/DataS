{
 "cells": [
  {
   "cell_type": "markdown",
   "metadata": {},
   "source": [
    "## Monte Carlo Simulation\n"
   ]
  },
  {
   "cell_type": "code",
   "execution_count": 1,
   "metadata": {},
   "outputs": [],
   "source": [
    "import random\n",
    "import math"
   ]
  },
  {
   "cell_type": "markdown",
   "metadata": {},
   "source": [
    "### Pi Calculation"
   ]
  },
  {
   "cell_type": "code",
   "execution_count": null,
   "metadata": {},
   "outputs": [],
   "source": [
    "def pi_estimator(num_points):\n",
    "    points_in_circle = 0\n",
    "\n",
    "    for _ in range(num_points):\n",
    "        x = random.uniform(-1, 1)\n",
    "        y = random.uniform(-1, 1)\n",
    "\n",
    "        distance = math.sqrt(x**2 + y**2)\n",
    "\n",
    "        if distance <= 1:\n",
    "            points_in_circle += 1\n",
    "\n",
    "    ratio= points_in_circle / num_points\n",
    "    pi = 4 * (ratio)\n",
    "    return pi\n",
    "\n",
    "sample_sizes  = [10**3, 10**4, 10**5, 10**6,10**7]\n",
    "\n",
    "for num_points in sample_sizes :\n",
    "    pi_approx = pi_estimator(num_points)\n",
    "    print(f\"Number of points: {num_points} || Pi approximation: {pi_approx}\")\n"
   ]
  },
  {
   "cell_type": "markdown",
   "metadata": {},
   "source": [
    "The code utilizes a Monte Carlo simulation technique to estimate the value of π. This involves generating random points within a quarter circle inscribed in a square. The pi_estimator function is responsible for calculating the ratio of points within the circle, providing approximate values for π based on different quantities of generated points (ranging from ${10^3}$ to ${10^7}$). Notably, as the number of points increases, the precision of the π approximation improves. This highlight the method's effectiveness in converging towards the true value of Pi as the sample size grows.\n",
    "\n",
    "In mathematical terms, the area of a square (As) is 4, and the area of a circle (Ac) can be represented by π. Therefore, the value of π can be expressed as 4 * (π/4) (Ac/As), where Ac is the area of the circle, and As is the area of the square."
   ]
  },
  {
   "cell_type": "markdown",
   "metadata": {},
   "source": [
    "### Mensch Game"
   ]
  }
 ],
 "metadata": {
  "kernelspec": {
   "display_name": "Python 3",
   "language": "python",
   "name": "python3"
  },
  "language_info": {
   "codemirror_mode": {
    "name": "ipython",
    "version": 3
   },
   "file_extension": ".py",
   "mimetype": "text/x-python",
   "name": "python",
   "nbconvert_exporter": "python",
   "pygments_lexer": "ipython3",
   "version": "3.10.6"
  }
 },
 "nbformat": 4,
 "nbformat_minor": 2
}
