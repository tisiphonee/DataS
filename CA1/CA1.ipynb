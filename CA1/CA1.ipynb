{
 "cells": [
  {
   "cell_type": "markdown",
   "metadata": {},
   "source": [
    "## Monte Carlo Simulation\n"
   ]
  },
  {
   "cell_type": "code",
   "execution_count": 139,
   "metadata": {},
   "outputs": [],
   "source": [
    "import random\n",
    "import math"
   ]
  },
  {
   "cell_type": "markdown",
   "metadata": {},
   "source": [
    "### Pi Calculation"
   ]
  },
  {
   "cell_type": "markdown",
   "metadata": {},
   "source": [
    "The idea is to randomly generate points within a square and determine how many fall in a circle inscribed by the square. By comparing the points inside the circle to the total number of points you can approximate the Pi number. Repeat your simulation with a different number of points and analyze their results."
   ]
  },
  {
   "cell_type": "code",
   "execution_count": 140,
   "metadata": {},
   "outputs": [
    {
     "name": "stdout",
     "output_type": "stream",
     "text": [
      "Number of points: 1000 || Pi approximation: 3.036\n",
      "Number of points: 10000 || Pi approximation: 3.1748\n",
      "Number of points: 100000 || Pi approximation: 3.14348\n",
      "Number of points: 1000000 || Pi approximation: 3.14078\n",
      "Number of points: 10000000 || Pi approximation: 3.1416588\n",
      "Number of points: 100000000 || Pi approximation: 3.1415742\n"
     ]
    }
   ],
   "source": [
    "def pi_estimator(num_points):\n",
    "    points_in_circle = 0\n",
    "\n",
    "    for _ in range(num_points):\n",
    "        x = random.uniform(-1, 1)\n",
    "        y = random.uniform(-1, 1)\n",
    "\n",
    "        distance = math.sqrt(x**2 + y**2)\n",
    "\n",
    "        if distance <= 1:\n",
    "            points_in_circle += 1\n",
    "\n",
    "    ratio= points_in_circle / num_points\n",
    "    pi = 4 * (ratio)\n",
    "    return pi\n",
    "\n",
    "sample_sizes  = [10**3, 10**4, 10**5, 10**6,10**7,10**8]\n",
    "\n",
    "for num_points in sample_sizes :\n",
    "    pi_approx = pi_estimator(num_points)\n",
    "    print(f\"Number of points: {num_points} || Pi approximation: {pi_approx}\")\n"
   ]
  },
  {
   "cell_type": "markdown",
   "metadata": {},
   "source": [
    "The code utilizes a Monte Carlo simulation technique to estimate the value of π. This involves generating random points within a quarter circle inscribed in a square. The pi_estimator function is responsible for calculating the ratio of points within the circle, providing approximate values for π based on different quantities of generated points (ranging from ${10^3}$ to ${10^8}$). Notably, as the number of points increases, the precision of the π approximation improves. This highlight the method's effectiveness in converging towards the true value of Pi as the sample size grows.\n",
    "\n",
    "In mathematical terms, the area of a square (A<sub>s</sub>) is 4, and the area of a circle (A<sub>c</sub>) can be represented by π. Therefore, the value of π can be expressed as 4 * (π/4) (A<sub>c</sub>/A<sub>s</sub>), where A<sub>c</sub> is the area of the circle, and A<sub>s</sub> is the area of the square.\n"
   ]
  },
  {
   "cell_type": "markdown",
   "metadata": {},
   "source": [
    "### Mensch Game"
   ]
  },
  {
   "cell_type": "markdown",
   "metadata": {},
   "source": [
    "We are going to analyze the simpler version of Mensch Game in which every player only has one piece in the game. So basically, every player only rolls dice in his turns and moves his piece So, everything is purely based on chance. We want to calculate the probability of winning for each of the 1st, 2nd, 3rd, and 4th players in this game. Perform the Monte Carlo Simulation over the speciﬁed game to calculate these probabilities."
   ]
  },
  {
   "cell_type": "code",
   "execution_count": 141,
   "metadata": {},
   "outputs": [],
   "source": [
    "NOT_IN_GAME=-1\n",
    "\n",
    "def roll_dice():\n",
    "    return random.randint(1, 6)\n",
    "\n",
    "def move_player(player_position, roll):\n",
    "    player_position += roll\n",
    "    return player_position\n",
    "\n",
    "def check_collision(player_positions, players_in_game, current_player_index):\n",
    "    for i in range(len(player_positions)):\n",
    "        if i != current_player_index and player_positions[current_player_index] == player_positions[i]:\n",
    "            player_positions[i] =NOT_IN_GAME\n",
    "            players_in_game[i] = False\n",
    "\n",
    "def roll_until_six(player_positions, players_in_game, i):\n",
    "    while True:\n",
    "        rolled_dice = roll_dice()\n",
    "        player_positions[i] = move_player(player_positions[i], rolled_dice)\n",
    "        check_collision(player_positions, players_in_game, i)\n",
    "        if rolled_dice != 6:\n",
    "            break\n"
   ]
  },
  {
   "cell_type": "code",
   "execution_count": 142,
   "metadata": {},
   "outputs": [],
   "source": [
    "def play_game():\n",
    "    num_players = 4\n",
    "    players_start_positions = [i * 10 for i in range(0, num_players)]\n",
    "    player_positions = [NOT_IN_GAME for i in range(0, num_players)]\n",
    "    players_in_game = [False] * num_players\n",
    "\n",
    "    while True:\n",
    "        for i in range(num_players):\n",
    "            rolled_dice=roll_dice()\n",
    "            if not players_in_game[i]:\n",
    "                if  rolled_dice == 6:\n",
    "                    players_in_game[i] = True\n",
    "                    player_positions[i] = move_player(players_start_positions[i], 0)\n",
    "                    roll_until_six(player_positions, players_in_game, i)\n",
    "\n",
    "            else:\n",
    "                roll_until_six(player_positions, players_in_game, i)  \n",
    "                \n",
    "            if player_positions[i]-players_start_positions[i] > 36:\n",
    "                return i "
   ]
  },
  {
   "cell_type": "code",
   "execution_count": 145,
   "metadata": {},
   "outputs": [
    {
     "name": "stdout",
     "output_type": "stream",
     "text": [
      "Number of runs : 1000000\n",
      "Player 1: Probability of winning = 26.022%\n",
      "Player 2: Probability of winning = 24.448%\n",
      "Player 3: Probability of winning = 24.289%\n",
      "Player 4: Probability of winning = 25.241%\n"
     ]
    }
   ],
   "source": [
    "def monte_carlo_simulation(num_simulations):\n",
    "    wins = [0] * 4\n",
    "    for _ in range(num_simulations):\n",
    "        winner = play_game()\n",
    "        wins[winner] += 1\n",
    "    \n",
    "    probabilities = [win / num_simulations for win in wins]\n",
    "    return probabilities\n",
    "\n",
    "NUM_SIMULATIONS = 10**6\n",
    "probabilities = monte_carlo_simulation(NUM_SIMULATIONS)\n",
    "\n",
    "print(f\"Number of runs : {NUM_SIMULATIONS}\")\n",
    "for i, prob in enumerate(probabilities):\n",
    "    print(f\"Player {i+1}: Probability of winning = {prob*100:.3f}%\")"
   ]
  }
 ],
 "metadata": {
  "kernelspec": {
   "display_name": "Python 3",
   "language": "python",
   "name": "python3"
  },
  "language_info": {
   "codemirror_mode": {
    "name": "ipython",
    "version": 3
   },
   "file_extension": ".py",
   "mimetype": "text/x-python",
   "name": "python",
   "nbconvert_exporter": "python",
   "pygments_lexer": "ipython3",
   "version": "3.10.6"
  }
 },
 "nbformat": 4,
 "nbformat_minor": 2
}
