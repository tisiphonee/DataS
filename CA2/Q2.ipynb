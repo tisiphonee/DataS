{
 "cells": [
  {
   "cell_type": "markdown",
   "metadata": {},
   "source": [
    "## Task 2 :"
   ]
  },
  {
   "cell_type": "markdown",
   "metadata": {},
   "source": [
    "### pre-analysis:"
   ]
  },
  {
   "cell_type": "code",
   "execution_count": 83,
   "metadata": {},
   "outputs": [
    {
     "name": "stdout",
     "output_type": "stream",
     "text": [
      "Column: Work_Year\n",
      "Number of missing values: 0\n",
      "Unique values: [2024 2023 2022 2020 2021]\n",
      "\n",
      "\n",
      "Column: Experience_Level\n",
      "Number of missing values: 0\n",
      "Unique values: ['Senior-Level' 'Mid-Level' 'Entry-Level' 'Executive-Level']\n",
      "\n",
      "\n",
      "Column: Employment_Type\n",
      "Number of missing values: 0\n",
      "Unique values: ['Full-Time' 'Contract' 'Part-Time' 'Freelance']\n",
      "\n",
      "\n",
      "Column: Job_Title\n",
      "Number of missing values: 0\n",
      "Unique values: ['AI Engineer' 'Machine Learning Engineer'\n",
      " 'Business Intelligence Developer' 'Data Engineer' 'Data Scientist'\n",
      " 'Cloud Database Engineer' 'Research Engineer' 'Data Analyst'\n",
      " 'Machine Learning Scientist' 'Applied Scientist' 'Data Science Manager'\n",
      " 'Research Scientist' 'Prompt Engineer' 'Data Science'\n",
      " 'Data Science Consultant' 'Data Management Analyst' 'Research Analyst'\n",
      " 'Data Operations Analyst' 'Data Management Consultant'\n",
      " 'Business Intelligence Analyst' 'Analytics Engineer'\n",
      " 'Data Quality Analyst' 'Data Architect' 'Data Manager' 'ML Engineer'\n",
      " 'Robotics Software Engineer' 'Machine Learning Researcher' 'AI Architect'\n",
      " 'Data DevOps Engineer' 'Business Intelligence' 'AI Software Engineer'\n",
      " 'Data Integration Engineer' 'Data Operations Specialist' 'BI Analyst'\n",
      " 'Data Product Manager' 'Business Intelligence Engineer' 'Data Specialist'\n",
      " 'AI Research Scientist' 'Data Science Director' 'Data Strategist'\n",
      " 'Big Data Developer' 'BI Developer' 'Quantitative Research Analyst'\n",
      " 'Lead Machine Learning Engineer' 'Machine Learning Research Engineer'\n",
      " 'Data Infrastructure Engineer' 'Data Analytics Lead'\n",
      " 'Business Intelligence Manager' 'Data Analytics Manager' 'Data Developer'\n",
      " 'Data Analytics Consultant' 'AI Research Engineer'\n",
      " 'Data Analytics Specialist' 'ETL Developer' 'Data Science Engineer'\n",
      " 'Big Data Engineer' 'Data Modeler' 'Robotics Engineer'\n",
      " 'Business Intelligence Lead' 'AI Programmer' 'ETL Engineer'\n",
      " 'Head of Data' 'AI Product Manager' 'Data Management Specialist'\n",
      " 'Data Operations Associate' 'AI Developer' 'Admin & Data Analyst'\n",
      " 'AI Scientist' 'Data Integration Specialist' 'Computer Vision Engineer'\n",
      " 'Head of Machine Learning' 'Data Analyst Lead'\n",
      " 'Machine Learning Operations Engineer' 'Data Lead'\n",
      " 'Data Science Practitioner' 'MLOps Engineer' 'Data Integration Developer'\n",
      " 'ML Ops Engineer' 'Data Pipeline Engineer' 'Lead Data Analyst'\n",
      " 'Data Science Lead' 'Director of Data Science'\n",
      " 'Managing Director Data Science' 'Data Visualization Specialist'\n",
      " 'Data Quality Manager' 'Data Product Owner'\n",
      " 'Machine Learning Infrastructure Engineer' 'Business Data Analyst'\n",
      " 'NLP Engineer' 'Marketing Data Scientist' 'Insight Analyst'\n",
      " 'Deep Learning Engineer' 'Machine Learning Modeler' 'BI Data Analyst'\n",
      " 'Business Intelligence Specialist' 'Data Quality Engineer'\n",
      " 'Decision Scientist' 'Financial Data Analyst' 'Data Strategy Manager'\n",
      " 'Data Visualization Engineer' 'Azure Data Engineer'\n",
      " 'Principal Data Scientist' 'Staff Data Analyst'\n",
      " 'Machine Learning Software Engineer' 'Applied Data Scientist'\n",
      " 'Applied Machine Learning Scientist' 'Data Operations Engineer'\n",
      " 'Machine Learning Manager' 'Lead Data Scientist'\n",
      " 'Principal Machine Learning Engineer' 'Principal Data Engineer'\n",
      " 'Power BI Developer' 'Head of Data Science'\n",
      " 'Staff Machine Learning Engineer' 'Staff Data Scientist'\n",
      " 'Consultant Data Engineer' 'Machine Learning Specialist'\n",
      " 'Business Intelligence Data Analyst' 'Data Operations Manager'\n",
      " 'Data Modeller' 'Finance Data Analyst' 'Software Data Engineer'\n",
      " 'Compliance Data Analyst' 'Cloud Data Engineer'\n",
      " 'Analytics Engineering Manager' 'AWS Data Architect'\n",
      " 'Product Data Analyst' 'Machine Learning Developer'\n",
      " 'Data Visualization Analyst' 'Autonomous Vehicle Technician'\n",
      " 'Sales Data Analyst' 'Applied Machine Learning Engineer'\n",
      " 'BI Data Engineer' 'Deep Learning Researcher' 'Big Data Architect'\n",
      " 'Computer Vision Software Engineer' 'Marketing Data Engineer'\n",
      " 'Manager Data Management' 'Data Science Tech Lead' 'Data Scientist Lead'\n",
      " 'Marketing Data Analyst' 'Principal Data Architect'\n",
      " 'Data Analytics Engineer' 'Cloud Data Architect' 'Lead Data Engineer'\n",
      " 'Principal Data Analyst']\n",
      "\n",
      "\n",
      "Column: Salary\n",
      "Number of missing values: 0\n",
      "Unique values: [ 90000 180500  96200 ... 138350 423000 412000]\n",
      "\n",
      "\n",
      "Column: Salary_Currency\n",
      "Number of missing values: 0\n",
      "Unique values: ['USD' 'EUR' 'GBP' 'CHF' 'CAD' 'NZD' 'AUD' 'INR' 'PLN' 'BRL' 'PHP' 'TRY'\n",
      " 'NOK' 'JPY' 'ZAR' 'HKD' 'SGD' 'ILS' 'THB' 'HUF' 'DKK' 'MXN' 'CLP']\n",
      "\n",
      "\n",
      "Column: Remote_Ratio\n",
      "Number of missing values: 0\n",
      "Unique values: [  0 100  50]\n",
      "\n",
      "\n",
      "Column: Company_Size\n",
      "Number of missing values: 0\n",
      "Unique values: ['Large' 'Medium' 'Small']\n",
      "\n",
      "\n"
     ]
    }
   ],
   "source": [
    "import pandas as pd\n",
    "\n",
    "df = pd.read_csv(\"task2.csv\")\n",
    "\n",
    "df['Company_Size'] = df['Company_Size'].replace('S', 'Small')\n",
    "columns_to_check = ['Work_Year', 'Experience_Level', 'Employment_Type', 'Job_Title', 'Salary', 'Salary_Currency', 'Remote_Ratio', 'Company_Size']\n",
    "\n",
    "for column in columns_to_check:\n",
    "    missing_values = df[column].isnull().sum()\n",
    "    unique_values = df[column].unique()\n",
    "    print(f\"Column: {column}\")\n",
    "    print(f\"Number of missing values: {missing_values}\")\n",
    "    print(f\"Unique values: {unique_values}\")\n",
    "    print(\"\\n\")\n"
   ]
  },
  {
   "cell_type": "code",
   "execution_count": 84,
   "metadata": {},
   "outputs": [
    {
     "name": "stdout",
     "output_type": "stream",
     "text": [
      "Number of duplicate rows : 5565\n"
     ]
    }
   ],
   "source": [
    "duplicate_rows = df[df.duplicated()]\n",
    "if not duplicate_rows.empty:\n",
    "    print(\"Number of duplicate rows :\",len(duplicate_rows))\n",
    "else:\n",
    "    print(\"No duplicate found!\")"
   ]
  },
  {
   "cell_type": "code",
   "execution_count": 85,
   "metadata": {},
   "outputs": [],
   "source": [
    "df = df.drop_duplicates()"
   ]
  },
  {
   "cell_type": "code",
   "execution_count": 86,
   "metadata": {},
   "outputs": [
    {
     "name": "stdout",
     "output_type": "stream",
     "text": [
      "Currency Counts befroe removing:\n",
      "Salary_Currency\n",
      "USD    7499\n",
      "GBP     410\n",
      "EUR     339\n",
      "INR      52\n",
      "CAD      48\n",
      "AUD      12\n",
      "PLN       7\n",
      "CHF       6\n",
      "SGD       6\n",
      "JPY       4\n",
      "BRL       4\n",
      "DKK       3\n",
      "HUF       3\n",
      "TRY       3\n",
      "NOK       2\n",
      "THB       2\n",
      "ZAR       1\n",
      "HKD       1\n",
      "ILS       1\n",
      "PHP       1\n",
      "NZD       1\n",
      "MXN       1\n",
      "CLP       1\n",
      "Name: count, dtype: int64 \n",
      "\n",
      "Currency Counts after removing:\n",
      "Salary_Currency\n",
      "USD    7499\n",
      "GBP     410\n",
      "EUR     339\n",
      "INR      52\n",
      "CAD      48\n",
      "AUD      12\n",
      "Name: count, dtype: int64\n"
     ]
    }
   ],
   "source": [
    "currency_counts = df['Salary_Currency'].value_counts()\n",
    "print(\"Currency Counts befroe removing:\")\n",
    "print(currency_counts,\"\\n\")\n",
    "\n",
    "currencies_to_remove = currency_counts[currency_counts < 10].index\n",
    "df = df[~df['Salary_Currency'].isin(currencies_to_remove)]\n",
    "\n",
    "currency_counts = df['Salary_Currency'].value_counts()\n",
    "print(\"Currency Counts after removing:\")\n",
    "print(currency_counts)"
   ]
  },
  {
   "cell_type": "code",
   "execution_count": 87,
   "metadata": {},
   "outputs": [],
   "source": [
    "df.to_csv(\"task2_cleaned.csv\")"
   ]
  },
  {
   "cell_type": "markdown",
   "metadata": {},
   "source": [
    "### Changing currencies to USD "
   ]
  },
  {
   "cell_type": "code",
   "execution_count": 104,
   "metadata": {},
   "outputs": [
    {
     "name": "stdout",
     "output_type": "stream",
     "text": [
      "['USD' 'EUR' 'GBP' 'CAD' 'AUD' 'INR']\n"
     ]
    }
   ],
   "source": [
    "import pandas as pd\n",
    "from forex_python.converter import CurrencyRates\n",
    "\n",
    "df = pd.read_csv(\"task2_cleaned.csv\")\n",
    "\n",
    "currencies = df['Salary_Currency'].unique()\n",
    "print(currencies)"
   ]
  },
  {
   "cell_type": "code",
   "execution_count": 105,
   "metadata": {},
   "outputs": [],
   "source": [
    "exchange_rates = {}\n",
    "\n",
    "cr = CurrencyRates()\n",
    "for currency in currencies:\n",
    "    if currency != 'USD':\n",
    "        exchange_rates[currency] = cr.get_rate(currency, 'USD')"
   ]
  },
  {
   "cell_type": "code",
   "execution_count": 106,
   "metadata": {},
   "outputs": [
    {
     "name": "stdout",
     "output_type": "stream",
     "text": [
      "{'EUR': 1.0768, 'GBP': 1.2578704514923194, 'CAD': 0.7416999586719933, 'AUD': 0.6519343706484229, 'INR': 0.012047235725513668}\n"
     ]
    }
   ],
   "source": [
    "print(exchange_rates)"
   ]
  },
  {
   "cell_type": "code",
   "execution_count": 107,
   "metadata": {},
   "outputs": [],
   "source": [
    "def convert_to_usd(amount, currency):\n",
    "    if currency != 'USD':\n",
    "        return round(amount * exchange_rates[currency])\n",
    "    else:\n",
    "        return amount\n",
    "\n",
    "df['Salary'] = df.apply(lambda row: int(convert_to_usd(row['Salary'], row['Salary_Currency'])), axis=1)\n",
    "\n",
    "df['Salary_Currency'] = 'USD'"
   ]
  },
  {
   "cell_type": "code",
   "execution_count": 108,
   "metadata": {},
   "outputs": [],
   "source": [
    "df.to_csv(\"task2_USD.csv\")"
   ]
  }
 ],
 "metadata": {
  "kernelspec": {
   "display_name": "Python 3",
   "language": "python",
   "name": "python3"
  },
  "language_info": {
   "codemirror_mode": {
    "name": "ipython",
    "version": 3
   },
   "file_extension": ".py",
   "mimetype": "text/x-python",
   "name": "python",
   "nbconvert_exporter": "python",
   "pygments_lexer": "ipython3",
   "version": "3.10.6"
  }
 },
 "nbformat": 4,
 "nbformat_minor": 2
}
