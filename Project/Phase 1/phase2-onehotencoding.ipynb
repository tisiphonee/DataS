{
 "cells": [
  {
   "cell_type": "code",
   "execution_count": null,
   "metadata": {},
   "outputs": [],
   "source": []
  },
  {
   "cell_type": "markdown",
   "metadata": {},
   "source": [
    "### Countries Feature\n",
    "\n",
    "For dealing with countries feature we one hot them by their continent.  "
   ]
  },
  {
   "cell_type": "code",
   "execution_count": null,
   "metadata": {},
   "outputs": [],
   "source": [
    "import seaborn as sns\n",
    "import matplotlib.pyplot as plt\n",
    "import pandas as pd\n",
    "import re\n",
    "from collections import Counter\n",
    "import pycountry_convert as pc\n",
    "\n",
    "df = pd.read_csv('ssssssss')"
   ]
  },
  {
   "cell_type": "code",
   "execution_count": null,
   "metadata": {},
   "outputs": [],
   "source": [
    "def country_to_continent(country_name):\n",
    "    if country_name == 'United States':\n",
    "        country_name = \"United States of America\"\n",
    "\n",
    "    if country_name == 'West Germany':\n",
    "        country_name = \"Germany\"\n",
    "\n",
    "    if country_name == 'Netherlands Antilles':\n",
    "        country_name = \"Venezuela\"\n",
    "    \n",
    "    if country_name == 'Soviet Union':\n",
    "        country_name = \"Russia\"\n",
    "    try:\n",
    "        country_alpha2 = pc.country_name_to_country_alpha2(country_name)\n",
    "        country_continent_code = pc.country_alpha2_to_continent_code(country_alpha2)\n",
    "        country_continent_name = pc.convert_continent_code_to_continent_name(country_continent_code)\n",
    "        return country_continent_name\n",
    "    \n",
    "    except LookupError:\n",
    "        print(f\"Country: {country_name} Not found\")\n",
    "        return \"Not found\""
   ]
  },
  {
   "cell_type": "code",
   "execution_count": null,
   "metadata": {},
   "outputs": [],
   "source": [
    "df['Country_list'] = df['Country of Origin'].str.split('~')\n",
    "df['Continents'] = df['Country_list'].apply(lambda countries: [country_to_continent(country) for country in countries])\n",
    "\n",
    "\n",
    "all_continents = set(continent for sublist in df['Continents'] for continent in sublist)\n",
    "for continent in all_continents:\n",
    "    df[continent] = df['Continents'].apply(lambda x: int(continent in x))\n",
    "\n",
    "\n",
    "df.drop(df[df['Not found'] == 1].index, inplace=True)\n",
    "df = df.drop(columns=['Continents', 'Not found'])\n",
    "\n",
    "\n",
    "df.describe()"
   ]
  },
  {
   "cell_type": "markdown",
   "metadata": {},
   "source": [
    "### Genere one hot encoding"
   ]
  },
  {
   "cell_type": "code",
   "execution_count": null,
   "metadata": {},
   "outputs": [],
   "source": [
    "df['Genre_list'] = df['Genre'].str.split('~')\n",
    "\n",
    "all_genres = set(genre for sublist in df['Genre_list'] for genre in sublist)\n",
    "print(\"total number of generes: \", len(all_genres))\n",
    "\n",
    "for genre in all_genres:\n",
    "    df[genre] = df['Genre_list'].apply(lambda x: int(genre in x))\n",
    "\n",
    "df = df.drop(columns=['Genre_list'])"
   ]
  }
 ],
 "metadata": {
  "language_info": {
   "name": "python"
  }
 },
 "nbformat": 4,
 "nbformat_minor": 2
}
