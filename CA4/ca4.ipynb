{
 "cells": [
  {
   "cell_type": "markdown",
   "metadata": {},
   "source": [
    "## Warm-Up!"
   ]
  },
  {
   "cell_type": "markdown",
   "metadata": {},
   "source": [
    "### Import Relevant Packages"
   ]
  },
  {
   "cell_type": "code",
   "execution_count": 1,
   "metadata": {},
   "outputs": [],
   "source": [
    "from sklearn.datasets import load_diabetes\n",
    "from sklearn.model_selection import train_test_split\n",
    "from sklearn.preprocessing import StandardScaler\n",
    "import pandas as pd"
   ]
  },
  {
   "cell_type": "markdown",
   "metadata": {},
   "source": [
    "### Loading diabetes dataset and Examining the dataset:"
   ]
  },
  {
   "cell_type": "code",
   "execution_count": 2,
   "metadata": {},
   "outputs": [],
   "source": [
    "diabetes = load_diabetes(scaled=False)\n",
    "\n",
    "df = pd.DataFrame(data=diabetes.data, columns=diabetes.feature_names)"
   ]
  },
  {
   "cell_type": "code",
   "execution_count": 3,
   "metadata": {},
   "outputs": [
    {
     "name": "stdout",
     "output_type": "stream",
     "text": [
      "    age  sex   bmi     bp     s1     s2    s3   s4      s5    s6\n",
      "0  59.0  2.0  32.1  101.0  157.0   93.2  38.0  4.0  4.8598  87.0\n",
      "1  48.0  1.0  21.6   87.0  183.0  103.2  70.0  3.0  3.8918  69.0\n",
      "2  72.0  2.0  30.5   93.0  156.0   93.6  41.0  4.0  4.6728  85.0\n",
      "3  24.0  1.0  25.3   84.0  198.0  131.4  40.0  5.0  4.8903  89.0\n",
      "4  50.0  1.0  23.0  101.0  192.0  125.4  52.0  4.0  4.2905  80.0\n",
      "age    float64\n",
      "sex    float64\n",
      "bmi    float64\n",
      "bp     float64\n",
      "s1     float64\n",
      "s2     float64\n",
      "s3     float64\n",
      "s4     float64\n",
      "s5     float64\n",
      "s6     float64\n",
      "dtype: object\n"
     ]
    }
   ],
   "source": [
    "print(df.head())\n",
    "\n",
    "print(df.dtypes)"
   ]
  },
  {
   "cell_type": "markdown",
   "metadata": {},
   "source": [
    "Data types are float64, so we ensured they are numeric features."
   ]
  },
  {
   "cell_type": "markdown",
   "metadata": {},
   "source": [
    "#### Checking missing data and Scaling data:"
   ]
  },
  {
   "cell_type": "markdown",
   "metadata": {},
   "source": [
    "---\n",
    "\n",
    "For the diabetes dataset, we opted for StandardScaler due to its effectiveness in handling features with varying magnitudes. This choice was motivated by the recognition that the dataset's features, such as blood pressure readings and body mass index (BMI) measurements, might exhibit different scales. StandardScaler was preferred for its robustness and suitability to our dataset's characteristics. While it maintains the shape of the original distribution of features, albeit centered at zero and scaled to unit variance, it also ensures that the scaled features still retain their original relative distances and relationships.\n",
    "\n",
    "StandardScaler standardizes features by removing the mean and scaling to unit variance, making it suitable for datasets where features have varying magnitudes. This approach ensures model stability by being less sensitive to outliers and preserves interpretability by retaining original feature distributions.\n",
    "\n",
    "In contrast, we refrained from using MinMaxScaler. This scaler scales features to a fixed range (for example [0,1]), which may be unsuitable for datasets with unknown feature distributions or varying magnitudes. Additionally, MinMaxScaler is more sensitive to outliers, which could distort the scaling process.\n",
    "\n",
    "---"
   ]
  },
  {
   "cell_type": "code",
   "execution_count": 4,
   "metadata": {},
   "outputs": [
    {
     "name": "stdout",
     "output_type": "stream",
     "text": [
      "No missing data found!\n",
      "\n",
      "Number of instances in training set: 419\n",
      "Number of instances in testing set: 23\n"
     ]
    }
   ],
   "source": [
    "missing_values = df.isnull().sum()\n",
    "if missing_values.any():\n",
    "    df.fillna(df.mean(), inplace=True)\n",
    "else:\n",
    "    print(\"No missing data found!\\n\")\n",
    "\n",
    "scaler = StandardScaler()\n",
    "scaled_features = scaler.fit_transform(df)\n",
    "\n",
    "X_train, X_test, y_train, y_test = train_test_split(scaled_features, diabetes.target, test_size=0.05)\n",
    "\n",
    "print(\"Number of instances in training set:\", len(X_train))\n",
    "print(\"Number of instances in testing set:\", len(X_test))\n"
   ]
  },
  {
   "cell_type": "markdown",
   "metadata": {},
   "source": [
    "Checking the dataset after scaling it to standard:"
   ]
  },
  {
   "cell_type": "code",
   "execution_count": 5,
   "metadata": {},
   "outputs": [
    {
     "name": "stdout",
     "output_type": "stream",
     "text": [
      "        age       sex       bmi        bp        s1        s2        s3  \\\n",
      "0  0.800500  1.065488  1.297088  0.459841 -0.929746 -0.732065 -0.912451   \n",
      "1 -0.039567 -0.938537 -1.082180 -0.553505 -0.177624 -0.402886  1.564414   \n",
      "2  1.793307  1.065488  0.934533 -0.119214 -0.958674 -0.718897 -0.680245   \n",
      "3 -1.872441 -0.938537 -0.243771 -0.770650  0.256292  0.525397 -0.757647   \n",
      "4  0.113172 -0.938537 -0.764944  0.459841  0.082726  0.327890  0.171178   \n",
      "\n",
      "         s4        s5        s6  \n",
      "0 -0.054499  0.418531 -0.370989  \n",
      "1 -0.830301 -1.436589 -1.938479  \n",
      "2 -0.054499  0.060156 -0.545154  \n",
      "3  0.721302  0.476983 -0.196823  \n",
      "4 -0.054499 -0.672502 -0.980568  \n"
     ]
    }
   ],
   "source": [
    "sdf = pd.DataFrame(data=scaled_features, columns=diabetes.feature_names)\n",
    "print(sdf.head())"
   ]
  },
  {
   "cell_type": "markdown",
   "metadata": {},
   "source": [
    "## Main Task"
   ]
  },
  {
   "cell_type": "markdown",
   "metadata": {},
   "source": [
    "### Part 1: Functions’ Implementation"
   ]
  },
  {
   "cell_type": "markdown",
   "metadata": {},
   "source": [
    "Here are the LaTeX formats for the formulas of the mentioned loss functions:\n",
    "\n",
    "1. **Mean Squared Error (MSE)**:\n",
    "$  \\text{MSE} = \\frac{1}{n} \\sum_{i=1}^{n} (y_i - \\hat{y}_i)^2 $\n",
    "\n",
    "2. **Mean Absolute Error (MAE)**:\n",
    "$ \\text{MAE} = \\frac{1}{n} \\sum_{i=1}^{n} |y_i - \\hat{y}_i| $\n",
    "\n",
    "3. **Root Mean Squared Error (RMSE)**:\n",
    "$ \\text{RMSE} = \\sqrt{\\frac{1}{n} \\sum_{i=1}^{n} (y_i - \\hat{y}_i)^2} $\n",
    "\n",
    "4. **R² Score (Coefficient of Determination)**:\n",
    "$ R^2 = 1 - \\frac{SS_{\\text{res}}}{SS_{\\text{tot}}} = 1 - \\frac{\\sum_{i=1}^{n} (y_i - \\hat{y}_i)^2}{\\sum_{i=1}^{n} (y_i - \\bar{y})^2} $\n",
    "\n",
    "Where:\n",
    "-  **n** is the number of observations,\n",
    "- $ y_i $ is the actual value,\n",
    "- $ \\hat{y}_i $ is the predicted value,\n",
    "- $ \\bar{y} $ is the mean of the actual values of the dependent variable.\n",
    "- $ SS_{\\text{res}} $ is the sum of squares of residuals,\n",
    "- $ SS_{\\text{tot}} $ is the total sum of squares."
   ]
  },
  {
   "cell_type": "code",
   "execution_count": 6,
   "metadata": {},
   "outputs": [],
   "source": [
    "def multiply_vectors (v1, v2):\n",
    "    sum = 0\n",
    "    if(len(v1) != len(v2)):\n",
    "        print(\"Can't match the dimentions\")\n",
    "        return;\n",
    "    \n",
    "    for i in range(len(v1)):\n",
    "        sum += v1[i] * v2[i]\n",
    "\n",
    "    return sum;\n",
    "    \n",
    "def mse_loss(X, y, model_weights, model_bias):\n",
    "    sum_errors = 0\n",
    "    \n",
    "    for i in range(len(X)):\n",
    "        predicted_y = multiply_vectors(X[i], model_weights) + model_bias\n",
    "        \n",
    "        sum_errors += pow( y[i] - predicted_y, 2)\n",
    "\n",
    "    return sum_errors / len(X)\n",
    "\n",
    "def mae_loss(X, y, model_weights, model_bias):\n",
    "    sum_errors = 0\n",
    " \n",
    "    for i in range(len(X)):\n",
    "        predicted_y =  multiply_vectors(X[i], model_weights) + model_bias\n",
    "        \n",
    "        sum_errors += abs(y[i] - predicted_y)\n",
    "\n",
    "    return sum_errors / len(X)\n",
    "\n",
    "def rmse_loss(X, y, model_weights, model_bias):\n",
    "    return sqrt(mse_loss(X, y, model_weights, model_bias))\n",
    "\n",
    "def r2score(X, y, model_weights, model_bias):\n",
    "    n = len(X)\n",
    "    sum_squared_residuals = 0\n",
    "    sum_squared_total = 0\n",
    "    y_mean = sum(y) / n\n",
    "    \n",
    "    for i in range(n):\n",
    "        predicted_y = multiply_vectors(X[i], model_weights) + model_bias\n",
    "        sum_squared_residuals += (y[i] - predicted_y) ** 2\n",
    "        sum_squared_total += (y[i] - y_mean) ** 2\n",
    "    \n",
    "    r2 = 1 - (sum_squared_residuals / sum_squared_total)\n",
    "    \n",
    "    return r2    "
   ]
  },
  {
   "cell_type": "markdown",
   "metadata": {},
   "source": [
    "### Part 2: Building and Training the Linear Regression Model"
   ]
  },
  {
   "cell_type": "code",
   "execution_count": 7,
   "metadata": {},
   "outputs": [
    {
     "name": "stdout",
     "output_type": "stream",
     "text": [
      "Mean Squared Error (MSE): 3569.585514620719\n",
      "R-squared (R2) Score: 0.46656442173732404\n"
     ]
    }
   ],
   "source": [
    "from sklearn.linear_model import LinearRegression\n",
    "from sklearn.metrics import mean_squared_error, r2_score\n",
    "\n",
    "model = LinearRegression()\n",
    "model.fit(X_train, y_train)\n",
    "\n",
    "y_pred = model.predict(X_test)\n",
    "\n",
    "mse = mean_squared_error(y_test, y_pred)\n",
    "r2 = r2_score(y_test, y_pred)\n",
    "\n",
    "print(\"Mean Squared Error (MSE):\", mse)\n",
    "print(\"R-squared (R2) Score:\", r2)"
   ]
  },
  {
   "cell_type": "code",
   "execution_count": null,
   "metadata": {},
   "outputs": [],
   "source": []
  }
 ],
 "metadata": {
  "kernelspec": {
   "display_name": "Python 3 (ipykernel)",
   "language": "python",
   "name": "python3"
  },
  "language_info": {
   "codemirror_mode": {
    "name": "ipython",
    "version": 3
   },
   "file_extension": ".py",
   "mimetype": "text/x-python",
   "name": "python",
   "nbconvert_exporter": "python",
   "pygments_lexer": "ipython3",
   "version": "3.10.6"
  }
 },
 "nbformat": 4,
 "nbformat_minor": 4
}
